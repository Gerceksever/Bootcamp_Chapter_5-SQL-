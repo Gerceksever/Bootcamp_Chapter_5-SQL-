{
 "cells": [
  {
   "cell_type": "markdown",
   "metadata": {},
   "source": [
    "Veri tabanları ne işe yarar? SQL'i hangi amaçlarla kullanırız?"
   ]
  },
  {
   "cell_type": "markdown",
   "metadata": {},
   "source": [
    "Veriyi oluşturmak, saklamak ve gerektiğinde güncellemek amacıyla veri tabanını kullanılır.\n",
    "Veri tabanları veriyi biçimlendirme ve yönetme maksadıyla kullanılır. SQL ise bu kapsamda ilişkisel veri tabanları açısından (tablo, kayıt, sütun vb.) sorguların yapılmasında kullanılan ortak dildir. Yani veri tabanı kayıtlarını insert, delete, update ve select maksadıyla kullanılır."
   ]
  },
  {
   "cell_type": "markdown",
   "metadata": {},
   "source": [
    "Derste değişik tablo türlerinden bahsettik (raw tables/processed tables/roll-up tables). Bir veri bilimci olarak, hangi tablonun hangi tür veriler ya da uygulamalar için uygun olduğunu kestirebiliyor musunuz? Herbir tür için, uygun olduğunu düşündüğünüz bir veri yapısı belirleyin ve önerilerinizi mentörünüzle tartışın."
   ]
  },
  {
   "cell_type": "markdown",
   "metadata": {},
   "source": [
    "Raw Tables: .csv\n",
    "Processed Tables: projects\n",
    "Roll-up Tables: Featured projects"
   ]
  }
 ],
 "metadata": {
  "kernelspec": {
   "display_name": "Python 3",
   "language": "python",
   "name": "python3"
  },
  "language_info": {
   "codemirror_mode": {
    "name": "ipython",
    "version": 3
   },
   "file_extension": ".py",
   "mimetype": "text/x-python",
   "name": "python",
   "nbconvert_exporter": "python",
   "pygments_lexer": "ipython3",
   "version": "3.7.0"
  }
 },
 "nbformat": 4,
 "nbformat_minor": 2
}
